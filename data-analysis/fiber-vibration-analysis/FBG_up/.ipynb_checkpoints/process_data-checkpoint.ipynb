{
 "cells": [
  {
   "cell_type": "code",
   "execution_count": 17,
   "id": "33f5375d-24a2-41f4-b2ae-47af78610abb",
   "metadata": {},
   "outputs": [],
   "source": [
    "import pandas as pd\n",
    "import numpy as np\n",
    "import os\n",
    "from scipy import stats\n",
    "import matplotlib.pyplot as plt\n",
    "from sklearn.model_selection import train_test_split\n",
    "from sklearn.preprocessing import StandardScaler\n",
    "from sklearn.linear_model import LogisticRegression\n",
    "from sklearn.tree import DecisionTreeClassifier\n",
    "from sklearn.metrics import accuracy_score, classification_report, confusion_matrix"
   ]
  },
  {
   "cell_type": "code",
   "execution_count": 14,
   "id": "07f26fff-a915-4993-82a2-52116768f6da",
   "metadata": {},
   "outputs": [
    {
     "name": "stdout",
     "output_type": "stream",
     "text": [
      "文件 2.1_75degrees.csv 拆分后的数据形状: (30059, 16)\n",
      "已保存处理后的文件: 2.1_75degrees.csv\n",
      "\n",
      "文件 2.2_65degrees.csv 拆分后的数据形状: (27392, 16)\n",
      "已保存处理后的文件: 2.2_65degrees.csv\n",
      "\n",
      "文件 2.3_55degrees.csv 拆分后的数据形状: (36140, 16)\n",
      "已保存处理后的文件: 2.3_55degrees.csv\n",
      "\n",
      "文件 2.4_45degrees.csv 拆分后的数据形状: (35582, 16)\n",
      "已保存处理后的文件: 2.4_45degrees.csv\n",
      "\n",
      "文件 2.5_35degrees.csv 拆分后的数据形状: (37442, 16)\n",
      "已保存处理后的文件: 2.5_35degrees.csv\n",
      "\n",
      "文件 2.6_25degrees.csv 拆分后的数据形状: (25969, 16)\n",
      "已保存处理后的文件: 2.6_25degrees.csv\n",
      "\n",
      "文件 2.7_15degrees.csv 拆分后的数据形状: (36467, 16)\n",
      "已保存处理后的文件: 2.7_15degrees.csv\n",
      "\n"
     ]
    }
   ],
   "source": [
    "import os\n",
    "import pandas as pd\n",
    "\n",
    "# 指定文件夹路径\n",
    "folder_path = r'C:\\Users\\yil\\Desktop\\ipy project\\week6-week8 lab project\\FBG_up\\up_data'\n",
    "\n",
    "# 遍历文件夹中的所有文件\n",
    "for filename in os.listdir(folder_path):\n",
    "    if filename.endswith('.csv'):\n",
    "        # 构建完整文件路径\n",
    "        file_path = os.path.join(folder_path, filename)\n",
    "        \n",
    "        # 读取CSV文件\n",
    "        df = pd.read_csv(file_path)\n",
    "        \n",
    "        # 检查第一列是否存在\n",
    "        if df.shape[1] == 0:\n",
    "            print(f\"文件 {filename} 没有任何列.\")\n",
    "            continue\n",
    "        \n",
    "        # 将该列的数据按分号拆分\n",
    "        try:\n",
    "            split_data = df.iloc[:, 0].str.split(';', expand=True)\n",
    "        except AttributeError:\n",
    "            print(f\"文件 {filename} 的第一列无法拆分，可能不是字符串类型.\")\n",
    "            continue\n",
    "\n",
    "        # 打印拆分后的数据形状以检查列数\n",
    "        print(f\"文件 {filename} 拆分后的数据形状: {split_data.shape}\")\n",
    "\n",
    "        # 假设数据有 16 列，你需要根据实际情况设置列名\n",
    "        if split_data.shape[1] != 16:\n",
    "            print(f\"文件 {filename} 拆分后的列数与预期不符: {split_data.shape[1]} 列\")\n",
    "            continue\n",
    "\n",
    "        split_data.columns = ['receive_ts', 'packet_ts', 'seqnr', 'sync status', 'TEC status', \n",
    "                              'missed frames', 'channel', 'numsens', 'wavelength 1', \n",
    "                              'wavelength 2', 'extra1', 'extra2', 'extra3', 'extra4', \n",
    "                              'extra5', 'extra6']\n",
    "\n",
    "        # 将拆分后的数据合并到原 DataFrame 中\n",
    "        df = pd.concat([df, split_data], axis=1)\n",
    "\n",
    "        # 如果需要，删除原来的列\n",
    "        df.drop(columns=[df.columns[0]], inplace=True)\n",
    "        \n",
    "        # 将处理后的数据保存回CSV文件\n",
    "        df.to_csv(file_path, index=False)\n",
    "        print(f\"已保存处理后的文件: {filename}\\n\")\n"
   ]
  },
  {
   "cell_type": "code",
   "execution_count": 24,
   "id": "96dd58a2-91a9-4b52-8c12-cdfc1c77aca7",
   "metadata": {},
   "outputs": [
    {
     "name": "stdout",
     "output_type": "stream",
     "text": [
      "去除异常值后的均值 (wavelength 1): 1544.9321678286535\n",
      "去除异常值后的均值 (wavelength 2): 1549.6721388495353\n",
      "已保存处理后的文件: C:\\Users\\yil\\Desktop\\ipy project\\week6-week8 lab project\\FBG_up\\cleaned\\1.1_15.csv\n",
      "去除异常值后的均值 (wavelength 1): 1545.0692953437851\n",
      "去除异常值后的均值 (wavelength 2): 1549.8689694285445\n",
      "已保存处理后的文件: C:\\Users\\yil\\Desktop\\ipy project\\week6-week8 lab project\\FBG_up\\cleaned\\1.2_25.csv\n",
      "去除异常值后的均值 (wavelength 1): 1545.2239049175291\n",
      "去除异常值后的均值 (wavelength 2): 1550.0299142204253\n",
      "已保存处理后的文件: C:\\Users\\yil\\Desktop\\ipy project\\week6-week8 lab project\\FBG_up\\cleaned\\1.3_35.csv\n"
     ]
    },
    {
     "name": "stderr",
     "output_type": "stream",
     "text": [
      "C:\\Users\\yil\\AppData\\Local\\Temp\\ipykernel_23608\\2171743742.py:16: DtypeWarning: Columns (1,2,3,4,5,6,7,8,9,10,11,12,13,14,15) have mixed types. Specify dtype option on import or set low_memory=False.\n",
      "  df = pd.read_csv(file_path)\n"
     ]
    },
    {
     "name": "stdout",
     "output_type": "stream",
     "text": [
      "去除异常值后的均值 (wavelength 1): 1545.402079797593\n",
      "去除异常值后的均值 (wavelength 2): 1550.186352713212\n",
      "已保存处理后的文件: C:\\Users\\yil\\Desktop\\ipy project\\week6-week8 lab project\\FBG_up\\cleaned\\1.4_45.csv\n",
      "去除异常值后的均值 (wavelength 1): 1545.5814533044352\n",
      "去除异常值后的均值 (wavelength 2): 1550.322724431009\n",
      "已保存处理后的文件: C:\\Users\\yil\\Desktop\\ipy project\\week6-week8 lab project\\FBG_up\\cleaned\\1.5_55.csv\n",
      "去除异常值后的均值 (wavelength 1): 1545.7552959717898\n",
      "去除异常值后的均值 (wavelength 2): 1550.4039531958763\n"
     ]
    },
    {
     "name": "stderr",
     "output_type": "stream",
     "text": [
      "C:\\Users\\yil\\AppData\\Local\\Temp\\ipykernel_23608\\2171743742.py:16: DtypeWarning: Columns (1,2,3,4,5,6,7,8,9,10,11,12,13,14,15) have mixed types. Specify dtype option on import or set low_memory=False.\n",
      "  df = pd.read_csv(file_path)\n"
     ]
    },
    {
     "name": "stdout",
     "output_type": "stream",
     "text": [
      "已保存处理后的文件: C:\\Users\\yil\\Desktop\\ipy project\\week6-week8 lab project\\FBG_up\\cleaned\\1.6_65.csv\n",
      "去除异常值后的均值 (wavelength 1): 1545.8117135413797\n",
      "去除异常值后的均值 (wavelength 2): 1550.5927141813415\n"
     ]
    },
    {
     "name": "stderr",
     "output_type": "stream",
     "text": [
      "C:\\Users\\yil\\AppData\\Local\\Temp\\ipykernel_23608\\2171743742.py:16: DtypeWarning: Columns (1,2,3,4,5,6,7,8,9,10,11,12,13,14,15) have mixed types. Specify dtype option on import or set low_memory=False.\n",
      "  df = pd.read_csv(file_path)\n"
     ]
    },
    {
     "name": "stdout",
     "output_type": "stream",
     "text": [
      "已保存处理后的文件: C:\\Users\\yil\\Desktop\\ipy project\\week6-week8 lab project\\FBG_up\\cleaned\\1.7_75.csv\n",
      "去除异常值后的均值 (wavelength 1): 1545.9531992495586\n",
      "去除异常值后的均值 (wavelength 2): 1550.7187471185055\n"
     ]
    },
    {
     "name": "stderr",
     "output_type": "stream",
     "text": [
      "C:\\Users\\yil\\AppData\\Local\\Temp\\ipykernel_23608\\2171743742.py:16: DtypeWarning: Columns (1,2,3,4,5,6,7,8,9,10,11,12,13,14,15) have mixed types. Specify dtype option on import or set low_memory=False.\n",
      "  df = pd.read_csv(file_path)\n"
     ]
    },
    {
     "name": "stdout",
     "output_type": "stream",
     "text": [
      "已保存处理后的文件: C:\\Users\\yil\\Desktop\\ipy project\\week6-week8 lab project\\FBG_up\\cleaned\\1.8_85.csv\n"
     ]
    }
   ],
   "source": [
    "# 指定文件夹路径\n",
    "folder_path = r'C:\\Users\\yil\\Desktop\\ipy project\\week6-week8 lab project\\FBG_up\\up_data'\n",
    "output_folder = r'C:\\Users\\yil\\Desktop\\ipy project\\week6-week8 lab project\\FBG_up'\n",
    "cleaned_folder = os.path.join(output_folder, 'cleaned')\n",
    "\n",
    "# 创建新文件夹，如果不存在\n",
    "os.makedirs(cleaned_folder, exist_ok=True)\n",
    "\n",
    "# 遍历文件夹中的所有文件\n",
    "for filename in os.listdir(folder_path):\n",
    "    if filename.endswith('.csv'):\n",
    "        # 构建完整文件路径\n",
    "        file_path = os.path.join(folder_path, filename)\n",
    "        \n",
    "        # 读取CSV文件\n",
    "        df = pd.read_csv(file_path)\n",
    "\n",
    "        # 确保 'wavelength 1' 和 'wavelength 2' 列为数值类型\n",
    "        df['wavelength 1'] = pd.to_numeric(df['wavelength 1'], errors='coerce')\n",
    "        df['wavelength 2'] = pd.to_numeric(df['wavelength 2'], errors='coerce')\n",
    "\n",
    "        # 基于 Z-score 删除异常值\n",
    "        z_scores = stats.zscore(df[['wavelength 1', 'wavelength 2']], nan_policy='omit')  # 忽略缺失值\n",
    "        abs_z_scores = abs(z_scores)\n",
    "        mask_z = (abs_z_scores <= 3).all(axis=1)  # 对每一行的所有列进行布尔索引\n",
    "        \n",
    "        # 保留 Z-score 在 -3 到 3 之间的行\n",
    "        df = df[mask_z]\n",
    "\n",
    "        # 基于 IQR 删除异常值\n",
    "        for col in ['wavelength 1', 'wavelength 2']:\n",
    "            Q1 = df[col].quantile(0.25)\n",
    "            Q3 = df[col].quantile(0.75)\n",
    "            IQR = Q3 - Q1\n",
    "            lower_bound = Q1 - 1.5 * IQR\n",
    "            upper_bound = Q3 + 1.5 * IQR\n",
    "            df = df[(df[col] >= lower_bound) & (df[col] <= upper_bound)]  # 保留在范围内的行\n",
    "        \n",
    "        # 计算并打印均值\n",
    "        mean_wavelength1 = df['wavelength 1'].mean()\n",
    "        mean_wavelength2 = df['wavelength 2'].mean()\n",
    "\n",
    "        print(f\"去除异常值后的均值 (wavelength 1): {mean_wavelength1}\")\n",
    "        print(f\"去除异常值后的均值 (wavelength 2): {mean_wavelength2}\")\n",
    "\n",
    "        # 保存处理后的 DataFrame 到新的 CSV 文件\n",
    "        cleaned_file_path = os.path.join(cleaned_folder, filename)\n",
    "        df.to_csv(cleaned_file_path, index=False)\n",
    "\n",
    "        print(f\"已保存处理后的文件: {cleaned_file_path}\")"
   ]
  },
  {
   "cell_type": "code",
   "execution_count": 26,
   "id": "60a8f35f-794d-46fe-b3d1-db474e0ac7d4",
   "metadata": {},
   "outputs": [
    {
     "name": "stdout",
     "output_type": "stream",
     "text": [
      "Processing file: 1.1_15.csv\n",
      "Base name: 1.1_15\n",
      "Last part: 15\n",
      "Extracted number: 15\n",
      "Processing file: 1.2_25.csv\n",
      "Base name: 1.2_25\n",
      "Last part: 25\n",
      "Extracted number: 25\n",
      "Processing file: 1.3_35.csv\n",
      "Base name: 1.3_35\n",
      "Last part: 35\n",
      "Extracted number: 35\n",
      "Processing file: 1.4_45.csv\n",
      "Base name: 1.4_45\n",
      "Last part: 45\n",
      "Extracted number: 45\n",
      "Processing file: 1.5_55.csv\n",
      "Base name: 1.5_55\n",
      "Last part: 55\n",
      "Extracted number: 55\n",
      "Processing file: 1.6_65.csv\n",
      "Base name: 1.6_65\n",
      "Last part: 65\n",
      "Extracted number: 65\n",
      "Processing file: 1.7_75.csv\n",
      "Base name: 1.7_75\n",
      "Last part: 75\n",
      "Extracted number: 75\n",
      "Processing file: 1.8_85.csv\n",
      "Base name: 1.8_85\n",
      "Last part: 85\n",
      "Extracted number: 85\n",
      "均值数据已保存到: C:\\Users\\yil\\Desktop\\ipy project\\week6-week8 lab project\\FBG_up\\up_data_mean.csv\n"
     ]
    }
   ],
   "source": [
    "# 指定清理后数据的文件夹路径\n",
    "cleaned_folder = r'C:\\Users\\yil\\Desktop\\ipy project\\week6-week8 lab project\\FBG_up\\cleaned'\n",
    "output_folder = r'C:\\Users\\yil\\Desktop\\ipy project\\week6-week8 lab project\\FBG_up'\n",
    "output_file = os.path.join(output_folder, 'up_data_mean.csv')\n",
    "\n",
    "# 创建输出文件夹，如果不存在\n",
    "os.makedirs(output_folder, exist_ok=True)\n",
    "\n",
    "# 创建一个空的列表来存储结果\n",
    "results = []\n",
    "\n",
    "# 遍历文件夹中的所有清理后的 CSV 文件\n",
    "for filename in os.listdir(cleaned_folder):\n",
    "    print(f\"Processing file: {filename}\")  # 打印当前处理的文件名\n",
    "    if filename.endswith('.csv'):\n",
    "        # 构建完整文件路径\n",
    "        file_path = os.path.join(cleaned_folder, filename)\n",
    "        \n",
    "        # 读取清理后的 CSV 文件\n",
    "        df = pd.read_csv(file_path)\n",
    "\n",
    "        # 计算均值\n",
    "        mean_wavelength1 = df['wavelength 1'].mean()\n",
    "        mean_wavelength2 = df['wavelength 2'].mean()\n",
    "\n",
    "        # 提取文件名最后的数字部分\n",
    "        base_name = os.path.splitext(filename)[0]  # 去掉扩展名\n",
    "        print(f\"Base name: {base_name}\")  # 打印基本文件名\n",
    "        \n",
    "        last_part = base_name.split('_')[-1]  # 取最后一部分\n",
    "        print(f\"Last part: {last_part}\")  # 打印提取到的最后部分\n",
    "        \n",
    "        # 转换为整数\n",
    "        extracted_number = int(last_part) if last_part.isdigit() else None\n",
    "        print(f\"Extracted number: {extracted_number}\")  # 打印提取的数字\n",
    "\n",
    "        # 将结果添加到列表\n",
    "        results.append({\n",
    "            'Temature': extracted_number,\n",
    "            'mean_wavelength_1': mean_wavelength1,\n",
    "            'mean_wavelength_2': mean_wavelength2\n",
    "        })\n",
    "\n",
    "# 将结果列表转换为 DataFrame\n",
    "results_df = pd.DataFrame(results)\n",
    "\n",
    "# 保存结果到指定路径的 CSV 文件\n",
    "results_df.to_csv(output_file, index=False)\n",
    "\n",
    "print(f\"均值数据已保存到: {output_file}\")"
   ]
  },
  {
   "cell_type": "code",
   "execution_count": null,
   "id": "6fd37323-f919-48ca-82f3-346325fb5ec6",
   "metadata": {},
   "outputs": [],
   "source": []
  }
 ],
 "metadata": {
  "kernelspec": {
   "display_name": "Python 3 (ipykernel)",
   "language": "python",
   "name": "python3"
  },
  "language_info": {
   "codemirror_mode": {
    "name": "ipython",
    "version": 3
   },
   "file_extension": ".py",
   "mimetype": "text/x-python",
   "name": "python",
   "nbconvert_exporter": "python",
   "pygments_lexer": "ipython3",
   "version": "3.12.4"
  }
 },
 "nbformat": 4,
 "nbformat_minor": 5
}
