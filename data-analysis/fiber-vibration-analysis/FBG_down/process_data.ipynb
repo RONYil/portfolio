{
 "cells": [
  {
   "cell_type": "code",
   "execution_count": 3,
   "id": "33f5375d-24a2-41f4-b2ae-47af78610abb",
   "metadata": {},
   "outputs": [],
   "source": [
    "import pandas as pd\n",
    "import numpy as np\n",
    "import os\n",
    "from scipy import stats\n",
    "import matplotlib.pyplot as plt\n",
    "from sklearn.model_selection import train_test_split\n",
    "from sklearn.preprocessing import StandardScaler\n",
    "from sklearn.linear_model import LogisticRegression\n",
    "from sklearn.tree import DecisionTreeClassifier\n",
    "from sklearn.metrics import accuracy_score, classification_report, confusion_matrix"
   ]
  },
  {
   "cell_type": "code",
   "execution_count": 4,
   "id": "07f26fff-a915-4993-82a2-52116768f6da",
   "metadata": {},
   "outputs": [
    {
     "name": "stdout",
     "output_type": "stream",
     "text": [
      "File 2.1_75degrees.csv split data shape: (30059, 1)\n",
      "Number of columns in the split data of file 2.1_75degrees.csv does not match the expected: 1 columns\n",
      "File 2.2_65degrees.csv split data shape: (27392, 1)\n",
      "Number of columns in the split data of file 2.2_65degrees.csv does not match the expected: 1 columns\n"
     ]
    },
    {
     "name": "stderr",
     "output_type": "stream",
     "text": [
      "C:\\Users\\yil\\AppData\\Local\\Temp\\ipykernel_32480\\2852309449.py:11: DtypeWarning: Columns (1,2,3,4,5,6,7,8,9,10,11,12,13,14,15) have mixed types. Specify dtype option on import or set low_memory=False.\n",
      "  df = pd.read_csv(file_path)\n",
      "C:\\Users\\yil\\AppData\\Local\\Temp\\ipykernel_32480\\2852309449.py:11: DtypeWarning: Columns (1,2,3,4,5,6,7,8,9,10,11,12,13,14,15) have mixed types. Specify dtype option on import or set low_memory=False.\n",
      "  df = pd.read_csv(file_path)\n",
      "C:\\Users\\yil\\AppData\\Local\\Temp\\ipykernel_32480\\2852309449.py:11: DtypeWarning: Columns (1,2,3,4,5,6,7,8,9,10,11,12,13,14,15) have mixed types. Specify dtype option on import or set low_memory=False.\n",
      "  df = pd.read_csv(file_path)\n"
     ]
    },
    {
     "name": "stdout",
     "output_type": "stream",
     "text": [
      "File 2.3_55degrees.csv split data shape: (36140, 1)\n",
      "Number of columns in the split data of file 2.3_55degrees.csv does not match the expected: 1 columns\n",
      "File 2.4_45degrees.csv split data shape: (35582, 1)\n",
      "Number of columns in the split data of file 2.4_45degrees.csv does not match the expected: 1 columns\n",
      "File 2.5_35degrees.csv split data shape: (37442, 1)\n",
      "Number of columns in the split data of file 2.5_35degrees.csv does not match the expected: 1 columns\n",
      "File 2.6_25degrees.csv split data shape: (25969, 1)\n",
      "Number of columns in the split data of file 2.6_25degrees.csv does not match the expected: 1 columns\n",
      "File 2.7_15degrees.csv split data shape: (36467, 1)\n",
      "Number of columns in the split data of file 2.7_15degrees.csv does not match the expected: 1 columns\n"
     ]
    },
    {
     "name": "stderr",
     "output_type": "stream",
     "text": [
      "C:\\Users\\yil\\AppData\\Local\\Temp\\ipykernel_32480\\2852309449.py:11: DtypeWarning: Columns (1,2,3,4,5,6,7,8,9,10,11,12,13,14,15) have mixed types. Specify dtype option on import or set low_memory=False.\n",
      "  df = pd.read_csv(file_path)\n"
     ]
    }
   ],
   "source": [
    "# Specify the folder path\n",
    "folder_path = r'C:\\Users\\yil\\Desktop\\ipy project\\week6-week8 lab project\\FBG_down\\down_data'\n",
    "\n",
    "# Iterate through all files in the folder\n",
    "for filename in os.listdir(folder_path):\n",
    "    if filename.endswith('.csv'):\n",
    "        # Construct the full file path\n",
    "        file_path = os.path.join(folder_path, filename)\n",
    "        \n",
    "        # Read the CSV file\n",
    "        df = pd.read_csv(file_path)\n",
    "        \n",
    "        # Check if the first column exists\n",
    "        if df.shape[1] == 0:\n",
    "            print(f\"File {filename} has no columns.\")\n",
    "            continue\n",
    "        \n",
    "        # Split the data in the first column by semicolon\n",
    "        try:\n",
    "            split_data = df.iloc[:, 0].str.split(';', expand=True)\n",
    "        except AttributeError:\n",
    "            print(f\"Cannot split the first column of file {filename}; it may not be of string type.\")\n",
    "            continue\n",
    "\n",
    "        # Print the shape of the split data to check the number of columns\n",
    "        print(f\"File {filename} split data shape: {split_data.shape}\")\n",
    "\n",
    "        # Assume the data has 16 columns; set column names according to your needs\n",
    "        if split_data.shape[1] != 16:\n",
    "            print(f\"Number of columns in the split data of file {filename} does not match the expected: {split_data.shape[1]} columns\")\n",
    "            continue\n",
    "\n",
    "        split_data.columns = ['receive_ts', 'packet_ts', 'seqnr', 'sync status', 'TEC status', \n",
    "                              'missed frames', 'channel', 'numsens', 'wavelength 1', \n",
    "                              'wavelength 2', 'extra1', 'extra2', 'extra3', 'extra4', \n",
    "                              'extra5', 'extra6']\n",
    "\n",
    "        # Merge the split data back into the original DataFrame\n",
    "        df = pd.concat([df, split_data], axis=1)\n",
    "\n",
    "        # If needed, drop the original column\n",
    "        df.drop(columns=[df.columns[0]], inplace=True)\n",
    "        \n",
    "        # Save the processed data back to the CSV file\n",
    "        df.to_csv(file_path, index=False)\n",
    "        print(f\"Processed file saved: {filename}\\n\")\n",
    "\n"
   ]
  },
  {
   "cell_type": "code",
   "execution_count": 7,
   "id": "96dd58a2-91a9-4b52-8c12-cdfc1c77aca7",
   "metadata": {},
   "outputs": [
    {
     "name": "stdout",
     "output_type": "stream",
     "text": [
      "Mean after removing outliers (wavelength 1): 1545.8721623299991\n",
      "Mean after removing outliers (wavelength 2): 1550.5980616026554\n",
      "Processed file saved: C:\\Users\\yil\\Desktop\\ipy project\\week6-week8 lab project\\FBG_down\\cleaned\\2.1_75degrees.csv\n",
      "Mean after removing outliers (wavelength 1): 1545.7349679818788\n",
      "Mean after removing outliers (wavelength 2): 1550.4711508512107\n",
      "Processed file saved: C:\\Users\\yil\\Desktop\\ipy project\\week6-week8 lab project\\FBG_down\\cleaned\\2.2_65degrees.csv\n",
      "Mean after removing outliers (wavelength 1): 1545.5927132948389\n",
      "Mean after removing outliers (wavelength 2): 1550.3474506768287\n",
      "Processed file saved: C:\\Users\\yil\\Desktop\\ipy project\\week6-week8 lab project\\FBG_down\\cleaned\\2.3_55degrees.csv\n"
     ]
    },
    {
     "name": "stderr",
     "output_type": "stream",
     "text": [
      "C:\\Users\\yil\\AppData\\Local\\Temp\\ipykernel_32480\\101589545.py:20: DtypeWarning: Columns (1,2,3,4,5,6,7,8,9,10,11,12,13,14,15) have mixed types. Specify dtype option on import or set low_memory=False.\n",
      "  df = pd.read_csv(file_path)\n",
      "C:\\Users\\yil\\AppData\\Local\\Temp\\ipykernel_32480\\101589545.py:20: DtypeWarning: Columns (1,2,3,4,5,6,7,8,9,10,11,12,13,14,15) have mixed types. Specify dtype option on import or set low_memory=False.\n",
      "  df = pd.read_csv(file_path)\n",
      "C:\\Users\\yil\\AppData\\Local\\Temp\\ipykernel_32480\\101589545.py:20: DtypeWarning: Columns (1,2,3,4,5,6,7,8,9,10,11,12,13,14,15) have mixed types. Specify dtype option on import or set low_memory=False.\n",
      "  df = pd.read_csv(file_path)\n"
     ]
    },
    {
     "name": "stdout",
     "output_type": "stream",
     "text": [
      "Mean after removing outliers (wavelength 1): 1545.445264582203\n",
      "Mean after removing outliers (wavelength 2): 1550.2241397997318\n",
      "Processed file saved: C:\\Users\\yil\\Desktop\\ipy project\\week6-week8 lab project\\FBG_down\\cleaned\\2.4_45degrees.csv\n",
      "Mean after removing outliers (wavelength 1): 1545.3702574626143\n",
      "Mean after removing outliers (wavelength 2): 1550.095001404262\n",
      "Processed file saved: C:\\Users\\yil\\Desktop\\ipy project\\week6-week8 lab project\\FBG_down\\cleaned\\2.5_35degrees.csv\n",
      "Mean after removing outliers (wavelength 1): 1545.1334568608263\n",
      "Mean after removing outliers (wavelength 2): 1549.9271363374944\n",
      "Processed file saved: C:\\Users\\yil\\Desktop\\ipy project\\week6-week8 lab project\\FBG_down\\cleaned\\2.6_25degrees.csv\n",
      "Mean after removing outliers (wavelength 1): 1545.0160090120564\n",
      "Mean after removing outliers (wavelength 2): 1549.780907626955\n",
      "Processed file saved: C:\\Users\\yil\\Desktop\\ipy project\\week6-week8 lab project\\FBG_down\\cleaned\\2.7_15degrees.csv\n"
     ]
    },
    {
     "name": "stderr",
     "output_type": "stream",
     "text": [
      "C:\\Users\\yil\\AppData\\Local\\Temp\\ipykernel_32480\\101589545.py:20: DtypeWarning: Columns (1,2,3,4,5,6,7,8,9,10,11,12,13,14,15) have mixed types. Specify dtype option on import or set low_memory=False.\n",
      "  df = pd.read_csv(file_path)\n"
     ]
    }
   ],
   "source": [
    "import os\n",
    "import pandas as pd\n",
    "from scipy import stats\n",
    "\n",
    "# Specify the folder path\n",
    "folder_path = r'C:\\Users\\yil\\Desktop\\ipy project\\week6-week8 lab project\\FBG_down\\down_data'\n",
    "output_folder = r'C:\\Users\\yil\\Desktop\\ipy project\\week6-week8 lab project\\FBG_down'\n",
    "cleaned_folder = os.path.join(output_folder, 'cleaned')\n",
    "\n",
    "# Create a new folder if it does not exist\n",
    "os.makedirs(cleaned_folder, exist_ok=True)\n",
    "\n",
    "# Iterate through all files in the folder\n",
    "for filename in os.listdir(folder_path):\n",
    "    if filename.endswith('.csv'):\n",
    "        # Construct the full file path\n",
    "        file_path = os.path.join(folder_path, filename)\n",
    "        \n",
    "        # Read the CSV file\n",
    "        df = pd.read_csv(file_path)\n",
    "\n",
    "        # Ensure 'wavelength 1' and 'wavelength 2' columns are numeric\n",
    "        df['wavelength 1'] = pd.to_numeric(df['wavelength 1'], errors='coerce')\n",
    "        df['wavelength 2'] = pd.to_numeric(df['wavelength 2'], errors='coerce')\n",
    "\n",
    "        # Remove outliers based on Z-score\n",
    "        z_scores = stats.zscore(df[['wavelength 1', 'wavelength 2']], nan_policy='omit')  # Ignore missing values\n",
    "        abs_z_scores = abs(z_scores)\n",
    "        mask_z = (abs_z_scores <= 3).all(axis=1)  # Boolean indexing for all columns in each row\n",
    "        \n",
    "        # Keep rows where Z-scores are between -3 and 3\n",
    "        df = df[mask_z]\n",
    "\n",
    "        # Remove outliers based on IQR\n",
    "        for col in ['wavelength 1', 'wavelength 2']:\n",
    "            Q1 = df[col].quantile(0.25)\n",
    "            Q3 = df[col].quantile(0.75)\n",
    "            IQR = Q3 - Q1\n",
    "            lower_bound = Q1 - 1.5 * IQR\n",
    "            upper_bound = Q3 + 1.5 * IQR\n",
    "            df = df[(df[col] >= lower_bound) & (df[col] <= upper_bound)]  # Keep rows within the range\n",
    "        \n",
    "        # Calculate and print means\n",
    "        mean_wavelength1 = df['wavelength 1'].mean()\n",
    "        mean_wavelength2 = df['wavelength 2'].mean()\n",
    "\n",
    "        print(f\"Mean after removing outliers (wavelength 1): {mean_wavelength1}\")\n",
    "        print(f\"Mean after removing outliers (wavelength 2): {mean_wavelength2}\")\n",
    "\n",
    "        # Save the processed DataFrame to a new CSV file\n",
    "        cleaned_file_path = os.path.join(cleaned_folder, filename)\n",
    "        df.to_csv(cleaned_file_path, index=False)\n",
    "\n",
    "        print(f\"Processed file saved: {cleaned_file_path}\")\n"
   ]
  },
  {
   "cell_type": "code",
   "execution_count": 9,
   "id": "60a8f35f-794d-46fe-b3d1-db474e0ac7d4",
   "metadata": {},
   "outputs": [
    {
     "name": "stdout",
     "output_type": "stream",
     "text": [
      "Processing file: 2.1_75degrees.csv\n",
      "Base name: 2.1_75degrees\n",
      "Last part: 75degrees\n",
      "Extracted number: None\n",
      "Processing file: 2.2_65degrees.csv\n",
      "Base name: 2.2_65degrees\n",
      "Last part: 65degrees\n",
      "Extracted number: None\n",
      "Processing file: 2.3_55degrees.csv\n",
      "Base name: 2.3_55degrees\n",
      "Last part: 55degrees\n",
      "Extracted number: None\n",
      "Processing file: 2.4_45degrees.csv\n",
      "Base name: 2.4_45degrees\n",
      "Last part: 45degrees\n",
      "Extracted number: None\n",
      "Processing file: 2.5_35degrees.csv\n",
      "Base name: 2.5_35degrees\n",
      "Last part: 35degrees\n",
      "Extracted number: None\n",
      "Processing file: 2.6_25degrees.csv\n",
      "Base name: 2.6_25degrees\n",
      "Last part: 25degrees\n",
      "Extracted number: None\n",
      "Processing file: 2.7_15degrees.csv\n",
      "Base name: 2.7_15degrees\n",
      "Last part: 15degrees\n",
      "Extracted number: None\n",
      "Mean data has been saved to: C:\\Users\\yil\\Desktop\\ipy project\\week6-week8 lab project\\FBG_down\\down_data_mean.csv\n"
     ]
    }
   ],
   "source": [
    "# Specify the folder path for cleaned data\n",
    "cleaned_folder = r'C:\\Users\\yil\\Desktop\\ipy project\\week6-week8 lab project\\FBG_down\\cleaned'\n",
    "output_folder = r'C:\\Users\\yil\\Desktop\\ipy project\\week6-week8 lab project\\FBG_down'\n",
    "output_file = os.path.join(output_folder, 'down_data_mean.csv')\n",
    "\n",
    "# Create the output folder if it does not exist\n",
    "os.makedirs(output_folder, exist_ok=True)\n",
    "\n",
    "# Create an empty list to store results\n",
    "results = []\n",
    "\n",
    "# Iterate through all cleaned CSV files in the folder\n",
    "for filename in os.listdir(cleaned_folder):\n",
    "    print(f\"Processing file: {filename}\")  # Print the current file name\n",
    "    if filename.endswith('.csv'):\n",
    "        # Construct the full file path\n",
    "        file_path = os.path.join(cleaned_folder, filename)\n",
    "        \n",
    "        # Read the cleaned CSV file\n",
    "        df = pd.read_csv(file_path)\n",
    "\n",
    "        # Calculate the means\n",
    "        mean_wavelength1 = df['wavelength 1'].mean()\n",
    "        mean_wavelength2 = df['wavelength 2'].mean()\n",
    "\n",
    "        # Extract the numerical part from the file name\n",
    "        base_name = os.path.splitext(filename)[0]  # Remove the extension\n",
    "        print(f\"Base name: {base_name}\")  # Print the base file name\n",
    "        \n",
    "        last_part = base_name.split('_')[-1]  # Get the last part\n",
    "        print(f\"Last part: {last_part}\")  # Print the extracted last part\n",
    "        \n",
    "        # Convert to integer\n",
    "        extracted_number = int(last_part) if last_part.isdigit() else None\n",
    "        print(f\"Extracted number: {extracted_number}\")  # Print the extracted number\n",
    "\n",
    "        # Append the result to the list\n",
    "        results.append({\n",
    "            'Temperature': extracted_number,\n",
    "            'mean_wavelength_1': mean_wavelength1,\n",
    "            'mean_wavelength_2': mean_wavelength2\n",
    "        })\n",
    "\n",
    "# Convert the results list to a DataFrame\n",
    "results_df = pd.DataFrame(results)\n",
    "\n",
    "# Save the results to the specified path as a CSV file\n",
    "results_df.to_csv(output_file, index=False)\n",
    "\n",
    "print(f\"Mean data has been saved to: {output_file}\")\n"
   ]
  },
  {
   "cell_type": "code",
   "execution_count": null,
   "id": "6fd37323-f919-48ca-82f3-346325fb5ec6",
   "metadata": {},
   "outputs": [],
   "source": []
  }
 ],
 "metadata": {
  "kernelspec": {
   "display_name": "Python 3 (ipykernel)",
   "language": "python",
   "name": "python3"
  },
  "language_info": {
   "codemirror_mode": {
    "name": "ipython",
    "version": 3
   },
   "file_extension": ".py",
   "mimetype": "text/x-python",
   "name": "python",
   "nbconvert_exporter": "python",
   "pygments_lexer": "ipython3",
   "version": "3.12.4"
  }
 },
 "nbformat": 4,
 "nbformat_minor": 5
}
