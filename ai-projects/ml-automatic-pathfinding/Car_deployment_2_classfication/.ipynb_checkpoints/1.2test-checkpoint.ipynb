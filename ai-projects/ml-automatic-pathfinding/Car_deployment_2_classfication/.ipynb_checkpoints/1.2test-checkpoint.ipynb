{
 "cells": [
  {
   "cell_type": "code",
   "execution_count": 1,
   "id": "f62b6e7a-9c7d-46be-a8b3-5cf1191b6cda",
   "metadata": {},
   "outputs": [],
   "source": [
    "import cv2\n",
    "import numpy as np\n",
    "import matplotlib.pyplot as plt\n",
    "\n",
    "def find_intersections_and_connect(image_path, y_level):\n",
    "    try:\n",
    "        img = cv2.imread(image_path)\n",
    "        if img is None:\n",
    "            raise ValueError(f\"未找到或无法读取图像: {image_path}\")\n",
    "        \n",
    "        gray = cv2.cvtColor(img, cv2.COLOR_BGR2GRAY)\n",
    "        _, binary = cv2.threshold(gray, 200, 255, cv2.THRESH_BINARY)\n",
    "        contours, _ = cv2.findContours(binary, cv2.RETR_EXTERNAL, cv2.CHAIN_APPROX_SIMPLE)\n",
    "\n",
    "        intersections = []\n",
    "        longest_segment = None\n",
    "        max_length = 0\n",
    "\n",
    "        for contour in contours:\n",
    "            for i in range(len(contour) - 1):\n",
    "                pt1 = tuple(contour[i][0])\n",
    "                pt2 = tuple(contour[i + 1][0])\n",
    "\n",
    "                if (pt1[1] - y_level) * (pt2[1] - y_level) <= 0:\n",
    "                    if pt1[1] != pt2[1]:\n",
    "                        x_intersect = int(pt1[0] + (pt2[0] - pt1[0]) * (y_level - pt1[1]) / (pt2[1] - pt1[1]))\n",
    "                        intersections.append((x_intersect, y_level))\n",
    "\n",
    "        if intersections:\n",
    "            intersections = sorted(intersections)\n",
    "            for i in range(len(intersections) - 1):\n",
    "                cv2.line(img, intersections[i], intersections[i + 1], (255, 0, 0), 2)  # 连接线段标记为蓝色\n",
    "\n",
    "            for i in range(len(intersections) - 1):\n",
    "                length = np.linalg.norm(np.array(intersections[i]) - np.array(intersections[i + 1]))\n",
    "                if length > max_length:\n",
    "                    max_length = length\n",
    "                    longest_segment = (intersections[i], intersections[i + 1])\n",
    "\n",
    "            if longest_segment:\n",
    "                midpoint = ((longest_segment[0][0] + longest_segment[1][0]) // 2,\n",
    "                             (longest_segment[0][1] + longest_segment[1][1]) // 2)\n",
    "\n",
    "                # 在图像中标记最长线段\n",
    "                cv2.line(img, longest_segment[0], longest_segment[1], (0, 255, 0), 2)  # 最长线段标记为绿色\n",
    "\n",
    "                # 在图像中标记中点\n",
    "                cv2.circle(img, midpoint, 7, (255, 255, 0), -1)  # 中点标记为黄色\n",
    "\n",
    "        # 可视化结果\n",
    "        for point in intersections:\n",
    "            cv2.circle(img, point, 5, (0, 255, 255), -1)  # 交点标记为黄色\n",
    "\n",
    "        plt.imshow(cv2.cvtColor(img, cv2.COLOR_BGR2RGB))\n",
    "        plt.axis('off')\n",
    "        plt.show()\n",
    "\n",
    "        return intersections, midpoint if longest_segment else None\n",
    "\n",
    "    except Exception as e:\n",
    "        print(f\"处理图像 {image_path} 时出错: {e}\")\n",
    "\n",
    "    return None, None  # 如果发生异常或其他未处理情况，返回 None\n"
   ]
  },
  {
   "cell_type": "code",
   "execution_count": 17,
   "id": "edad6ff9-47db-48f1-95e4-b2b383d0999e",
   "metadata": {},
   "outputs": [
    {
     "data": {
      "image/png": "[encoded data removed]",
      "text/plain": [
       "<Figure size 640x480 with 1 Axes>"
      ]
     },
     "metadata": {},
     "output_type": "display_data"
    },
    {
     "data": {
      "text/plain": [
       "([(222, 30),\n",
       "  (223, 30),\n",
       "  (223, 30),\n",
       "  (224, 30),\n",
       "  (241, 30),\n",
       "  (242, 30),\n",
       "  (427, 30),\n",
       "  (428, 30),\n",
       "  (447, 30),\n",
       "  (447, 30),\n",
       "  (448, 30),\n",
       "  (449, 30)],\n",
       " (334, 30))"
      ]
     },
     "execution_count": 17,
     "metadata": {},
     "output_type": "execute_result"
    }
   ],
   "source": [
    "image_path = r\"C:\\Users\\yil\\Desktop\\ipy project\\bot-project\\black-white\\original10_lower_half.jpeg\"\n",
    "find_intersections_and_connect(image_path, 30)\n"
   ]
  },
  {
   "cell_type": "code",
   "execution_count": null,
   "id": "b5378395-15ec-4b52-afa8-ba33ade8d5f5",
   "metadata": {},
   "outputs": [],
   "source": []
  }
 ],
 "metadata": {
  "kernelspec": {
   "display_name": "Python (opencv_env)",
   "language": "python",
   "name": "opencv_env"
  },
  "language_info": {
   "codemirror_mode": {
    "name": "ipython",
    "version": 3
   },
   "file_extension": ".py",
   "mimetype": "text/x-python",
   "name": "python",
   "nbconvert_exporter": "python",
   "pygments_lexer": "ipython3",
   "version": "3.8.20"
  }
 },
 "nbformat": 4,
 "nbformat_minor": 5
}
