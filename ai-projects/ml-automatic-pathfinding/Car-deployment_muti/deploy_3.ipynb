{
 "cells": [
  {
   "cell_type": "code",
   "execution_count": 1,
   "id": "7df895ed-448c-469f-a411-b131cf6a8919",
   "metadata": {},
   "outputs": [],
   "source": [
    "#汽车处理图像转化为模型输入\n",
    "import cv2\n",
    "import numpy as np\n",
    "from PIL import Image\n",
    "from torchvision import transforms\n",
    "import torch\n",
    "import torch.nn as nn\n",
    "from PIL import Image\n",
    "import io"
   ]
  },
  {
   "cell_type": "code",
   "execution_count": null,
   "id": "fc3c5fb8-03df-4e0c-af7e-1926ad11a828",
   "metadata": {},
   "outputs": [],
   "source": [
    "# Image processing for car image conversion into model input\n",
    "\n",
    "def process_image(image):\n",
    "    # Step 1: Extract the lower half of the image\n",
    "    lower_half = slice_image(image)\n",
    "    \n",
    "    # Step 2: Convert the lower half to OpenCV format\n",
    "    lower_half_cv = cv2.cvtColor(np.array(lower_half), cv2.COLOR_RGB2BGR)\n",
    "    \n",
    "    # Step 3: Convert to grayscale\n",
    "    gray = cv2.cvtColor(lower_half_cv, cv2.COLOR_BGR2GRAY)\n",
    "    \n",
    "    # Step 4: Apply Gaussian blur to reduce noise\n",
    "    blurred = cv2.GaussianBlur(gray, (5, 5), 0)\n",
    "    \n",
    "    # Step 5: Apply Canny edge detection\n",
    "    edges = cv2.Canny(blurred, 50, 150)\n",
    "    \n",
    "    # Ensure the output image size is (64, 64)\n",
    "    edges_resized = cv2.resize(edges, (64, 64))  \n",
    "    \n",
    "    return edges_resized\n",
    "\n",
    "def process_image_for_model(image):\n",
    "    # Convert NumPy array to PIL image\n",
    "    result_image_pil = Image.fromarray(image.astype(np.uint8))\n",
    "\n",
    "    # Ensure the image is in RGB format\n",
    "    if result_image_pil.mode != 'RGB':\n",
    "        result_image_pil = result_image_pil.convert('RGB')\n",
    "    \n",
    "    # Define the transform (already provided)\n",
    "    transform = transforms.Compose([\n",
    "        transforms.Resize((64, 64)),  # Ensure the image size is 64x64\n",
    "        transforms.ToTensor(),        # Convert the image to Tensor format\n",
    "        transforms.Normalize(mean=[0.485, 0.456, 0.406], std=[0.229, 0.224, 0.225])  # Normalization\n",
    "    ])\n",
    "    \n",
    "    # Apply transformations to the image\n",
    "    image_tensor = transform(result_image_pil).unsqueeze(0)  # Add batch dimension\n",
    "    return image_tensor\n",
    "\n",
    "def process_and_prepare_for_model(image):\n",
    "    # Step 1: Process the image (extract lower half and apply edge detection)\n",
    "    processed_image = process_image(slice_image(image))\n",
    "    \n",
    "    # Step 2: Convert the processed image to the model input format\n",
    "    # Since process_image returns a NumPy array, convert it to the format the model expects\n",
    "    return process_image_for_model(processed_image)\n",
    "\n",
    "# Define the model architecture (in the model set)\n",
    "def convnet1(image_size=64):\n",
    "    return nn.Sequential(\n",
    "        # First convolutional layer, reducing the number of channels\n",
    "        nn.Conv2d(3, 4, kernel_size=3, stride=1, padding=1),  # Output: 64x64x4\n",
    "        nn.ReLU(),\n",
    "        nn.MaxPool2d(kernel_size=2, stride=2),  # Output: 32x32x4\n",
    "\n",
    "        # Second convolutional layer\n",
    "        nn.Conv2d(4, 8, kernel_size=3, stride=1, padding=1),  # Output: 32x32x8\n",
    "        nn.ReLU(),\n",
    "        nn.MaxPool2d(kernel_size=2, stride=2),  # Output: 16x16x8\n",
    "\n",
    "        # Third convolutional layer\n",
    "        nn.Conv2d(8, 16, kernel_size=3, stride=1, padding=1),  # Output: 16x16x16\n",
    "        nn.ReLU(),\n",
    "        nn.MaxPool2d(kernel_size=2, stride=2),  # Output: 8x8x16\n",
    "        \n",
    "        nn.Flatten(),  # Flatten the output\n",
    "\n",
    "        # Fully connected layer\n",
    "        nn.Linear(16 * 8 * 8, 128),  # Modified input size for fully connected layer: 16 * 8 * 8 = 1024\n",
    "        nn.ReLU(),\n",
    "\n",
    "        # Dropout layer to reduce overfitting\n",
    "        nn.Dropout(0.3),\n",
    "\n",
    "        # Output layer\n",
    "        nn.Linear(128, 3)  # Output 3 classes\n",
    "    )\n"
   ]
  },
  {
   "cell_type": "code",
   "execution_count": 5,
   "id": "28d4d0d1-6c4a-45c2-ab55-d8b5cf1ff758",
   "metadata": {},
   "outputs": [
    {
     "name": "stderr",
     "output_type": "stream",
     "text": [
      "C:\\Users\\yil\\AppData\\Local\\Temp\\ipykernel_11648\\3489696964.py:5: FutureWarning: You are using `torch.load` with `weights_only=False` (the current default value), which uses the default pickle module implicitly. It is possible to construct malicious pickle data which will execute arbitrary code during unpickling (See https://github.com/pytorch/pytorch/blob/main/SECURITY.md#untrusted-models for more details). In a future release, the default value for `weights_only` will be flipped to `True`. This limits the functions that could be executed during unpickling. Arbitrary objects will no longer be allowed to be loaded via this mode unless they are explicitly allowlisted by the user via `torch.serialization.add_safe_globals`. We recommend you start setting `weights_only=True` for any use case where you don't have full control of the loaded file. Please open an issue on GitHub for any issues related to this experimental feature.\n",
      "  model_weights = torch.load('model_weights_3.pth')\n"
     ]
    },
    {
     "data": {
      "text/plain": [
       "Sequential(\n",
       "  (0): Conv2d(3, 4, kernel_size=(3, 3), stride=(1, 1), padding=(1, 1))\n",
       "  (1): ReLU()\n",
       "  (2): MaxPool2d(kernel_size=2, stride=2, padding=0, dilation=1, ceil_mode=False)\n",
       "  (3): Conv2d(4, 8, kernel_size=(3, 3), stride=(1, 1), padding=(1, 1))\n",
       "  (4): ReLU()\n",
       "  (5): MaxPool2d(kernel_size=2, stride=2, padding=0, dilation=1, ceil_mode=False)\n",
       "  (6): Conv2d(8, 16, kernel_size=(3, 3), stride=(1, 1), padding=(1, 1))\n",
       "  (7): ReLU()\n",
       "  (8): MaxPool2d(kernel_size=2, stride=2, padding=0, dilation=1, ceil_mode=False)\n",
       "  (9): Flatten(start_dim=1, end_dim=-1)\n",
       "  (10): Linear(in_features=1024, out_features=128, bias=True)\n",
       "  (11): ReLU()\n",
       "  (12): Dropout(p=0.3, inplace=False)\n",
       "  (13): Linear(in_features=128, out_features=3, bias=True)\n",
       ")"
      ]
     },
     "execution_count": 5,
     "metadata": {},
     "output_type": "execute_result"
    }
   ],
   "source": [
    "# Rebuild the same model structure\n",
    "model = convnet1(image_size=64)\n",
    "\n",
    "# Load the saved weights\n",
    "model_weights = torch.load('model_weights_3.pth')\n",
    "model.load_state_dict(model_weights)\n",
    "model.eval()"
   ]
  },
  {
   "cell_type": "code",
   "execution_count": null,
   "id": "d32acdea-dacd-4e45-bf09-90a545b6d21b",
   "metadata": {},
   "outputs": [],
   "source": [
    "# Running car\n",
    "%run car"
   ]
  },
  {
   "cell_type": "code",
   "execution_count": null,
   "id": "2ba8c0a3-aef4-409d-8d66-0e3c0ece2f74",
   "metadata": {},
   "outputs": [],
   "source": [
    "# Assign the car class to c\n",
    "c = car"
   ]
  },
  {
   "cell_type": "code",
   "execution_count": null,
   "id": "31655bab-b428-4407-8acb-ea087d544a6e",
   "metadata": {},
   "outputs": [],
   "source": [
    "# Print 1 through 3 using the while loop\n",
    "i = 1\n",
    "while i <= 3:\n",
    "    i += 1\n",
    "    # Open and load the image\n",
    "    array = c.get()\n",
    "\n",
    "    print(array)\n",
    "    \n",
    "    image = image = Image.fromarray(array)\n",
    "    \n",
    "    # 处理并准备图像以便输入到模型\n",
    "    model_input = process_and_prepare_for_model(image)\n",
    "    \n",
    "    with torch.no_grad():\n",
    "        output = model(model_input)\n",
    "\n",
    "    # Process and prepare images for input into the model\n",
    "    _, predicted_class = torch.max(output, 1)\n",
    "    print(f\"Predicted class: {predicted_class.item()}\")\n",
    "\n",
    "    if predicted_class.item() == 1:\n",
    "        print(1)\n",
    "    else if predicted_class.item() == 0:\n",
    "        print(0)\n",
    "    else:\n",
    "        print(2)"
   ]
  }
 ],
 "metadata": {
  "kernelspec": {
   "display_name": "Python (opencv_env)",
   "language": "python",
   "name": "opencv_env"
  },
  "language_info": {
   "codemirror_mode": {
    "name": "ipython",
    "version": 3
   },
   "file_extension": ".py",
   "mimetype": "text/x-python",
   "name": "python",
   "nbconvert_exporter": "python",
   "pygments_lexer": "ipython3",
   "version": "3.8.20"
  }
 },
 "nbformat": 4,
 "nbformat_minor": 5
}
