{
 "cells": [
  {
   "cell_type": "code",
   "execution_count": 3,
   "id": "5c01555e-8629-41f3-9578-bd1f6209d991",
   "metadata": {},
   "outputs": [],
   "source": [
    "import pandas as pd"
   ]
  },
  {
   "cell_type": "code",
   "execution_count": 5,
   "id": "a48b1d45-708d-4b3e-8e0c-bc03838b7968",
   "metadata": {},
   "outputs": [],
   "source": [
    "# 读取CSV\n",
    "df = pd.read_csv(\"输出特征.csv\")"
   ]
  },
  {
   "cell_type": "code",
   "execution_count": 7,
   "id": "572b8aff-99fb-4c87-89c7-90acfa01148d",
   "metadata": {},
   "outputs": [],
   "source": [
    "# 提取fiber通道编号和时间戳\n",
    "df['fiber'] = df['file'].str.extract(r'(fiber[s]?\\_\\d+)_')  # 提取 fiber_1, fiber_2 这样的通道\n",
    "df['timestamp_str'] = df['file'].str.extract(r'(\\d{14})')   # 提取时间戳字符串\n",
    "df['timestamp'] = pd.to_datetime(df['timestamp_str'], format='%Y%m%d%H%M%S')  # 转为datetime类型"
   ]
  },
  {
   "cell_type": "code",
   "execution_count": 9,
   "id": "465c4849-7ea8-4a92-bf30-73c860b245c5",
   "metadata": {},
   "outputs": [],
   "source": [
    "# 先按 fiber 分组，再按时间排序\n",
    "df_sorted = df.sort_values(by=['fiber', 'timestamp']).reset_index(drop=True)"
   ]
  },
  {
   "cell_type": "code",
   "execution_count": 11,
   "id": "a511106d-432f-4405-91ef-650f0c8adc4e",
   "metadata": {},
   "outputs": [],
   "source": [
    "# 如果你不想保留中间处理列，可以删掉\n",
    "df_sorted = df_sorted.drop(columns=['fiber', 'timestamp_str', 'timestamp'])"
   ]
  },
  {
   "cell_type": "code",
   "execution_count": 13,
   "id": "c8b94f25-460f-4144-946e-9e7622a5f403",
   "metadata": {},
   "outputs": [],
   "source": [
    "# 保存新的排序文件\n",
    "df_sorted.to_csv(\"sorted_by_fiber_and_time.csv\", index=False)"
   ]
  },
  {
   "cell_type": "code",
   "execution_count": 15,
   "id": "0a7bb3f9-ec91-4bb7-b46c-af7ec28b1736",
   "metadata": {},
   "outputs": [
    {
     "data": {
      "text/html": [
       "<div>\n",
       "<style scoped>\n",
       "    .dataframe tbody tr th:only-of-type {\n",
       "        vertical-align: middle;\n",
       "    }\n",
       "\n",
       "    .dataframe tbody tr th {\n",
       "        vertical-align: top;\n",
       "    }\n",
       "\n",
       "    .dataframe thead th {\n",
       "        text-align: right;\n",
       "    }\n",
       "</style>\n",
       "<table border=\"1\" class=\"dataframe\">\n",
       "  <thead>\n",
       "    <tr style=\"text-align: right;\">\n",
       "      <th></th>\n",
       "      <th>file</th>\n",
       "      <th>metadata</th>\n",
       "      <th>mean</th>\n",
       "      <th>std</th>\n",
       "      <th>rms</th>\n",
       "      <th>freq_mean</th>\n",
       "      <th>freq_max</th>\n",
       "      <th>wavelet_energy_level_0</th>\n",
       "      <th>wavelet_energy_level_1</th>\n",
       "      <th>wavelet_energy_level_2</th>\n",
       "      <th>wavelet_energy_level_3</th>\n",
       "      <th>wavelet_energy_level_4</th>\n",
       "    </tr>\n",
       "  </thead>\n",
       "  <tbody>\n",
       "    <tr>\n",
       "      <th>0</th>\n",
       "      <td>fibers_1_20250304132423.npy</td>\n",
       "      <td># Measurement \\ndate: di  4 mrt 2025 14:21:56 ...</td>\n",
       "      <td>6.980147e+07</td>\n",
       "      <td>3.251147e+10</td>\n",
       "      <td>3.251154e+10</td>\n",
       "      <td>8.814117e+11</td>\n",
       "      <td>2.053758e+14</td>\n",
       "      <td>6.446081e+25</td>\n",
       "      <td>4.034523e+21</td>\n",
       "      <td>1.340069e+21</td>\n",
       "      <td>1.134774e+20</td>\n",
       "      <td>4.414504e+18</td>\n",
       "    </tr>\n",
       "    <tr>\n",
       "      <th>1</th>\n",
       "      <td>fibers_1_20250304132444.npy</td>\n",
       "      <td># Measurement \\ndate: di  4 mrt 2025 14:21:56 ...</td>\n",
       "      <td>1.115807e+08</td>\n",
       "      <td>3.204878e+10</td>\n",
       "      <td>3.204897e+10</td>\n",
       "      <td>8.845415e+11</td>\n",
       "      <td>2.051423e+14</td>\n",
       "      <td>6.315189e+25</td>\n",
       "      <td>4.066523e+21</td>\n",
       "      <td>1.292560e+21</td>\n",
       "      <td>1.175624e+20</td>\n",
       "      <td>4.292242e+18</td>\n",
       "    </tr>\n",
       "    <tr>\n",
       "      <th>2</th>\n",
       "      <td>fibers_1_20250304132504.npy</td>\n",
       "      <td># Measurement \\ndate: di  4 mrt 2025 14:21:56 ...</td>\n",
       "      <td>1.090545e+08</td>\n",
       "      <td>3.225465e+10</td>\n",
       "      <td>3.225483e+10</td>\n",
       "      <td>8.764064e+11</td>\n",
       "      <td>2.032887e+14</td>\n",
       "      <td>6.364027e+25</td>\n",
       "      <td>4.096736e+21</td>\n",
       "      <td>1.440365e+21</td>\n",
       "      <td>9.477936e+19</td>\n",
       "      <td>3.778450e+17</td>\n",
       "    </tr>\n",
       "    <tr>\n",
       "      <th>3</th>\n",
       "      <td>fibers_1_20250304132525.npy</td>\n",
       "      <td># Measurement \\ndate: di  4 mrt 2025 14:21:56 ...</td>\n",
       "      <td>9.343353e+07</td>\n",
       "      <td>3.208463e+10</td>\n",
       "      <td>3.208476e+10</td>\n",
       "      <td>8.657389e+11</td>\n",
       "      <td>1.935884e+14</td>\n",
       "      <td>6.272055e+25</td>\n",
       "      <td>3.800874e+21</td>\n",
       "      <td>1.517779e+21</td>\n",
       "      <td>8.873851e+19</td>\n",
       "      <td>4.125297e+18</td>\n",
       "    </tr>\n",
       "    <tr>\n",
       "      <th>4</th>\n",
       "      <td>fibers_1_20250304132545.npy</td>\n",
       "      <td># Measurement \\ndate: di  4 mrt 2025 14:21:56 ...</td>\n",
       "      <td>5.127132e+07</td>\n",
       "      <td>3.198977e+10</td>\n",
       "      <td>3.198981e+10</td>\n",
       "      <td>8.826556e+11</td>\n",
       "      <td>1.921926e+14</td>\n",
       "      <td>6.257646e+25</td>\n",
       "      <td>4.106112e+21</td>\n",
       "      <td>1.321567e+21</td>\n",
       "      <td>1.137497e+20</td>\n",
       "      <td>3.892628e+18</td>\n",
       "    </tr>\n",
       "  </tbody>\n",
       "</table>\n",
       "</div>"
      ],
      "text/plain": [
       "                          file  \\\n",
       "0  fibers_1_20250304132423.npy   \n",
       "1  fibers_1_20250304132444.npy   \n",
       "2  fibers_1_20250304132504.npy   \n",
       "3  fibers_1_20250304132525.npy   \n",
       "4  fibers_1_20250304132545.npy   \n",
       "\n",
       "                                            metadata          mean  \\\n",
       "0  # Measurement \\ndate: di  4 mrt 2025 14:21:56 ...  6.980147e+07   \n",
       "1  # Measurement \\ndate: di  4 mrt 2025 14:21:56 ...  1.115807e+08   \n",
       "2  # Measurement \\ndate: di  4 mrt 2025 14:21:56 ...  1.090545e+08   \n",
       "3  # Measurement \\ndate: di  4 mrt 2025 14:21:56 ...  9.343353e+07   \n",
       "4  # Measurement \\ndate: di  4 mrt 2025 14:21:56 ...  5.127132e+07   \n",
       "\n",
       "            std           rms     freq_mean      freq_max  \\\n",
       "0  3.251147e+10  3.251154e+10  8.814117e+11  2.053758e+14   \n",
       "1  3.204878e+10  3.204897e+10  8.845415e+11  2.051423e+14   \n",
       "2  3.225465e+10  3.225483e+10  8.764064e+11  2.032887e+14   \n",
       "3  3.208463e+10  3.208476e+10  8.657389e+11  1.935884e+14   \n",
       "4  3.198977e+10  3.198981e+10  8.826556e+11  1.921926e+14   \n",
       "\n",
       "   wavelet_energy_level_0  wavelet_energy_level_1  wavelet_energy_level_2  \\\n",
       "0            6.446081e+25            4.034523e+21            1.340069e+21   \n",
       "1            6.315189e+25            4.066523e+21            1.292560e+21   \n",
       "2            6.364027e+25            4.096736e+21            1.440365e+21   \n",
       "3            6.272055e+25            3.800874e+21            1.517779e+21   \n",
       "4            6.257646e+25            4.106112e+21            1.321567e+21   \n",
       "\n",
       "   wavelet_energy_level_3  wavelet_energy_level_4  \n",
       "0            1.134774e+20            4.414504e+18  \n",
       "1            1.175624e+20            4.292242e+18  \n",
       "2            9.477936e+19            3.778450e+17  \n",
       "3            8.873851e+19            4.125297e+18  \n",
       "4            1.137497e+20            3.892628e+18  "
      ]
     },
     "execution_count": 15,
     "metadata": {},
     "output_type": "execute_result"
    }
   ],
   "source": [
    "# 查看排序后的前几行\n",
    "df_sorted.head()"
   ]
  },
  {
   "cell_type": "code",
   "execution_count": null,
   "id": "967a4e89-13da-47cb-ac24-518f06f413f3",
   "metadata": {},
   "outputs": [],
   "source": []
  }
 ],
 "metadata": {
  "kernelspec": {
   "display_name": "Python (opencv_env)",
   "language": "python",
   "name": "opencv_env"
  },
  "language_info": {
   "codemirror_mode": {
    "name": "ipython",
    "version": 3
   },
   "file_extension": ".py",
   "mimetype": "text/x-python",
   "name": "python",
   "nbconvert_exporter": "python",
   "pygments_lexer": "ipython3",
   "version": "3.8.20"
  }
 },
 "nbformat": 4,
 "nbformat_minor": 5
}
