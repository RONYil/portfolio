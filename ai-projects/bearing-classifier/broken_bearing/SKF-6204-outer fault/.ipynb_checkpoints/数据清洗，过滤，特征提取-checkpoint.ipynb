{
 "cells": [
  {
   "cell_type": "code",
   "execution_count": 1,
   "id": "f18e3e69-5d83-4d08-9b6b-c1fc64373bba",
   "metadata": {},
   "outputs": [],
   "source": [
    "import os\n",
    "import csv\n",
    "import numpy as np\n",
    "from scipy.signal import butter, filtfilt\n",
    "from scipy.fftpack import fft\n",
    "import pywt\n",
    "import pandas as pd\n",
    "from datetime import datetime"
   ]
  },
  {
   "cell_type": "code",
   "execution_count": 3,
   "id": "3a07b741-11e7-4739-91a3-9aa37e3b9823",
   "metadata": {},
   "outputs": [],
   "source": [
    "def load_metadata(txt_path):\n",
    "    with open(txt_path, 'r') as f:\n",
    "        metadata = f.read().strip()  # 读取所有文本内容，去掉前后空白字符\n",
    "    return metadata"
   ]
  },
  {
   "cell_type": "code",
   "execution_count": 5,
   "id": "46fdefff-3bb2-495f-978b-27133143fb64",
   "metadata": {},
   "outputs": [],
   "source": [
    "def butter_bandpass(lowcut, highcut, fs, order=4):\n",
    "    nyq = 0.5 * fs  # 奈奎斯特频率\n",
    "    low = lowcut / nyq\n",
    "    high = highcut / nyq\n",
    "    b, a = butter(order, [low, high], btype='band')  # 带通滤波器系数\n",
    "    return b, a"
   ]
  },
  {
   "cell_type": "code",
   "execution_count": 7,
   "id": "dd1661cf-5244-457d-9084-7b38aca4c1a3",
   "metadata": {},
   "outputs": [],
   "source": [
    "def clean_filter_data(data, fs):\n",
    "    data = np.nan_to_num(data)  # 替换NaN和Inf为0或有限数值，避免后续运算异常\n",
    "    b, a = butter_bandpass(0.5, 40, fs)\n",
    "    filtered = filtfilt(b, a, data)  # 双向滤波，避免相位失真\n",
    "    mean = np.mean(filtered)\n",
    "    std = np.std(filtered)\n",
    "    mask = (filtered > mean - 3*std) & (filtered < mean + 3*std)  # 只保留均值±3倍标准差的数据\n",
    "    cleaned = filtered[mask]\n",
    "    return cleaned"
   ]
  },
  {
   "cell_type": "code",
   "execution_count": 9,
   "id": "ced53f04-c951-4ead-9dc6-d38c2445988a",
   "metadata": {},
   "outputs": [],
   "source": [
    "def extract_features(data, fs):\n",
    "    features = {}\n",
    "    # 时域\n",
    "    features['mean'] = np.mean(data)\n",
    "    features['std'] = np.std(data)\n",
    "    features['rms'] = np.sqrt(np.mean(data**2))\n",
    "\n",
    "    # 频域（FFT频谱幅值）\n",
    "    freq_spectrum = np.abs(fft(data))\n",
    "    features['freq_mean'] = np.mean(freq_spectrum)\n",
    "    features['freq_max'] = np.max(freq_spectrum)\n",
    "\n",
    "    # 时频域（小波分解能量）\n",
    "    coeffs = pywt.wavedec(data, 'db4', level=4)\n",
    "    for i, coef in enumerate(coeffs):\n",
    "        features[f'wavelet_energy_level_{i}'] = np.sum(coef**2)\n",
    "\n",
    "    return features"
   ]
  },
  {
   "cell_type": "code",
   "execution_count": 11,
   "id": "6aa2e6e6-107e-413f-ba6d-ae9155a65eb8",
   "metadata": {},
   "outputs": [],
   "source": [
    "def process_folder(folder_path, fs=1000):\n",
    "    txt_files = [f for f in os.listdir(folder_path) if f.endswith('.txt')]\n",
    "    metadata = None\n",
    "    if txt_files:\n",
    "        metadata = load_metadata(os.path.join(folder_path, txt_files[0]))\n",
    "\n",
    "    npy_files = [f for f in os.listdir(folder_path) if f.endswith('.npy')]\n",
    "    all_features = []\n",
    "    for npy_file in npy_files:\n",
    "        data = np.load(os.path.join(folder_path, npy_file))\n",
    "        cleaned_data = clean_filter_data(data, fs)\n",
    "        features = extract_features(cleaned_data, fs)\n",
    "        features['file'] = npy_file\n",
    "        all_features.append(features)\n",
    "\n",
    "    return metadata, all_features\n"
   ]
  },
  {
   "cell_type": "code",
   "execution_count": 13,
   "id": "3ad4b711-fa07-4a0f-bd9f-4b8a08bc6d1f",
   "metadata": {},
   "outputs": [],
   "source": [
    "def save_features_to_csv(metadata, features_list, csv_path):\n",
    "    if not features_list:\n",
    "        print(\"没有特征数据可写入。\")\n",
    "        return\n",
    "\n",
    "    keys = list(features_list[0].keys())\n",
    "    keys = ['file', 'metadata'] + [k for k in keys if k not in ['file']]\n",
    "\n",
    "    with open(csv_path, 'w', newline='', encoding='utf-8') as csvfile:\n",
    "        writer = csv.DictWriter(csvfile, fieldnames=keys)\n",
    "        writer.writeheader()\n",
    "\n",
    "        for feat in features_list:\n",
    "            row = {'file': feat.get('file', ''),\n",
    "                   'metadata': metadata if metadata else ''}\n",
    "            for k in keys:\n",
    "                if k not in ['file', 'metadata']:\n",
    "                    row[k] = feat.get(k, '')\n",
    "            writer.writerow(row)\n",
    "    print(f\"特征已保存到 {csv_path}\")"
   ]
  },
  {
   "cell_type": "code",
   "execution_count": 15,
   "id": "772dd27a-73b5-4710-87c5-e8c4cd6bed8c",
   "metadata": {},
   "outputs": [],
   "source": [
    "folder = 'C:/Users/yil/Desktop/graduation-project/SKF-6204-outer fault'\n",
    "output_csv = '输出特征.csv'"
   ]
  },
  {
   "cell_type": "code",
   "execution_count": 17,
   "id": "82274c6b-8fb9-45aa-9a73-411d359a19e9",
   "metadata": {},
   "outputs": [],
   "source": [
    "metadata, features_list = process_folder(folder)"
   ]
  },
  {
   "cell_type": "code",
   "execution_count": 19,
   "id": "accd8c67-d7e8-41ca-834c-f7d7ba1271af",
   "metadata": {},
   "outputs": [
    {
     "name": "stdout",
     "output_type": "stream",
     "text": [
      "特征已保存到 输出特征.csv\n"
     ]
    }
   ],
   "source": [
    "save_features_to_csv(metadata, features_list, output_csv)"
   ]
  }
 ],
 "metadata": {
  "kernelspec": {
   "display_name": "Python (opencv_env)",
   "language": "python",
   "name": "opencv_env"
  },
  "language_info": {
   "codemirror_mode": {
    "name": "ipython",
    "version": 3
   },
   "file_extension": ".py",
   "mimetype": "text/x-python",
   "name": "python",
   "nbconvert_exporter": "python",
   "pygments_lexer": "ipython3",
   "version": "3.8.20"
  }
 },
 "nbformat": 4,
 "nbformat_minor": 5
}
