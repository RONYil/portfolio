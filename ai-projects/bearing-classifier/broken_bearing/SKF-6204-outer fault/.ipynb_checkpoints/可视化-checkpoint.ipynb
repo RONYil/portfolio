{
 "cells": [
  {
   "cell_type": "code",
   "execution_count": 15,
   "id": "65fa8e02-1a35-4468-bf9d-9c79f4567dce",
   "metadata": {},
   "outputs": [],
   "source": [
    "import pandas as pd\n",
    "import matplotlib.pyplot as plt"
   ]
  },
  {
   "cell_type": "code",
   "execution_count": 17,
   "id": "1dffd5ff-f8e8-41e8-a796-d4ab37548cd9",
   "metadata": {},
   "outputs": [],
   "source": [
    "# 读取已排序的CSV\n",
    "df = pd.read_csv(\"sorted_by_fiber_and_time.csv\")"
   ]
  },
  {
   "cell_type": "code",
   "execution_count": 19,
   "id": "ce57f2a4-0236-44cf-baaf-fe51fbe00e15",
   "metadata": {},
   "outputs": [],
   "source": [
    "# 确保时间戳列是 datetime 格式\n",
    "df['timestamp'] = pd.to_datetime(df['file'].str.extract(r'(\\d{14})')[0], format='%Y%m%d%H%M%S')"
   ]
  },
  {
   "cell_type": "code",
   "execution_count": 21,
   "id": "c5d601f6-affe-494b-b2f2-d4560555a991",
   "metadata": {},
   "outputs": [],
   "source": [
    "# 提取 fiber 列（如果还没有）\n",
    "df['fiber'] = df['file'].str.extract(r'(fiber[s]?\\_\\d+)_')"
   ]
  },
  {
   "cell_type": "code",
   "execution_count": 23,
   "id": "d288f012-6b12-4f78-b000-0272a92bee87",
   "metadata": {},
   "outputs": [],
   "source": [
    "# 筛选 fiber_1 和 fiber_2 的数据\n",
    "df_fiber1 = df[df['fiber'] == 'fibers_1']\n",
    "df_fiber2 = df[df['fiber'] == 'fibers_2']"
   ]
  },
  {
   "cell_type": "code",
   "execution_count": null,
   "id": "5c0c7c63-dcb2-4a59-bf9d-618adc147526",
   "metadata": {},
   "outputs": [],
   "source": [
    "# 要可视化的特征列表\n",
    "features_to_plot = ['rms', 'freq_mean', 'freq_max', 'wavelet_energy_level_0', 'wavelet_energy_level_1']"
   ]
  }
 ],
 "metadata": {
  "kernelspec": {
   "display_name": "Python (opencv_env)",
   "language": "python",
   "name": "opencv_env"
  },
  "language_info": {
   "codemirror_mode": {
    "name": "ipython",
    "version": 3
   },
   "file_extension": ".py",
   "mimetype": "text/x-python",
   "name": "python",
   "nbconvert_exporter": "python",
   "pygments_lexer": "ipython3",
   "version": "3.8.20"
  }
 },
 "nbformat": 4,
 "nbformat_minor": 5
}
